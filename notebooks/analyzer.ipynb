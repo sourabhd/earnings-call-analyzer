{
 "cells": [
  {
   "cell_type": "markdown",
   "id": "70d545c9",
   "metadata": {},
   "source": [
    "# ANALYZE EARNINGS CALLS AND PRESENT A STORY LIKE A PRO BUSINESS ANALYST \n",
    "\n",
    "\n",
    "## USING CEREBRAS + OPENROUTER + QWEN3-32 \n",
    "\n",
    "### Saurabh Daptardar"
   ]
  },
  {
   "cell_type": "markdown",
   "id": "75cb2f07",
   "metadata": {},
   "source": [
    "## STEP 0 : IMPORTS AND CLIENT FOR MODEL ENDPOINT"
   ]
  },
  {
   "cell_type": "code",
   "execution_count": 1,
   "id": "74c6c154",
   "metadata": {},
   "outputs": [],
   "source": [
    "from openai import OpenAI\n",
    "from dotenv import load_dotenv\n",
    "import os\n",
    "from pprint import pprint\n",
    "from IPython.display import display, Markdown\n",
    "\n",
    "# Load environment variables from .env file\n",
    "load_dotenv()\n",
    "\n",
    "# Ensure OPENROUTER_API_KEY is set in the environment\n",
    "OPENROUTER_API_KEY = os.getenv(\"OPENROUTER_API_KEY\")\n",
    "if not OPENROUTER_API_KEY:\n",
    "    raise ValueError(\"OPENROUTER_API_KEY environment variable is not set.\")\n",
    "\n",
    "\n",
    "# Initialize OpenAI client with OpenRouter API key\n",
    "client = OpenAI(\n",
    "  base_url=\"https://openrouter.ai/api/v1\",\n",
    "  api_key=OPENROUTER_API_KEY,\n",
    ")\n"
   ]
  },
  {
   "cell_type": "markdown",
   "id": "7e2b275f",
   "metadata": {},
   "source": [
    "## STEP 0 : Smoke Test for basic functionality"
   ]
  },
  {
   "cell_type": "code",
   "execution_count": 2,
   "id": "2cf336df",
   "metadata": {},
   "outputs": [
    {
     "name": "stdout",
     "output_type": "stream",
     "text": [
      "1. The meaning of life is a subjective and multifaceted concept, shaped by personal values, cultural contexts, and the pursuit of purpose or fulfillment.  \n",
      "2. Philosophically, it may be framed as a search for existence's inherent logic, with existentialist thought asserting that individuals create their own meaning through choices and actions.  \n",
      "3. Biologically, life’s \"purpose\" could be interpreted as survival, adaptation, and the propagation of life through evolutionary processes.  \n",
      "4. Across spiritual traditions, the meaning often centers on connection—whether to a higher power, to others through compassion, or to the universe as part of an interconnected whole.\n"
     ]
    }
   ],
   "source": [
    "\n",
    "# Create a chat completion using the Qwen-3 32B model from Cerebras\n",
    "completion = client.chat.completions.create(\n",
    "#   extra_headers={\n",
    "#     \"HTTP-Referer\": \"<YOUR_SITE_URL>\", # Optional. Site URL for rankings on openrouter.ai.\n",
    "#     \"X-Title\": \"<YOUR_SITE_NAME>\", # Optional. Site title for rankings on openrouter.ai.\n",
    "#   },\n",
    "  extra_body={\n",
    "    \"provider\": {\n",
    "      \"only\": [\"Cerebras\"]\n",
    "    }\n",
    "  },\n",
    "  model=\"qwen/qwen3-32b\",\n",
    "  messages=[\n",
    "    {\n",
    "      \"role\": \"user\",\n",
    "      \"content\": \"Explain the meaning of life in four sentences.\"\n",
    "    }\n",
    "  ]\n",
    ")\n",
    "print(completion.choices[0].message.content)"
   ]
  },
  {
   "cell_type": "markdown",
   "id": "690724c8",
   "metadata": {},
   "source": [
    "## STEP 0 : Smoke Test for reasoning"
   ]
  },
  {
   "cell_type": "code",
   "execution_count": 3,
   "id": "a86c8dd4",
   "metadata": {},
   "outputs": [
    {
     "name": "stdout",
     "output_type": "stream",
     "text": [
      "'Reasoning Steps:'\n",
      "('\\n'\n",
      " 'Okay, the user wants an explanation of the meaning of life in four '\n",
      " 'sentences. Let me start by considering different philosophical perspectives. '\n",
      " 'Existentialism suggests creating our own meaning, while religious views '\n",
      " 'often point to serving a higher purpose. I should mention both to cover a '\n",
      " 'range.\\n'\n",
      " '\\n'\n",
      " 'Next, the idea that meaning is personal and varies between individuals is '\n",
      " \"important. It's not one-size-fits-all. Then, including elements like \"\n",
      " 'connection, growth, and contribution could show a holistic approach. Maybe '\n",
      " \"touch on how questioning life's meaning is part of the human experience and \"\n",
      " 'how answers evolve over time.\\n'\n",
      " '\\n'\n",
      " 'Wait, the user might be looking for something concise but comprehensive. Let '\n",
      " 'me make sure each sentence addresses a different angle. First, the '\n",
      " 'philosophical debate. Second, the subjective nature. Third, specific '\n",
      " 'components of meaning. Fourth, the dynamic process of seeking. Need to avoid '\n",
      " 'being too abstract and keep it relatable. Also, check for clarity and that '\n",
      " 'each sentence flows logically.\\n')\n",
      "'\\nFinal Answer:'\n",
      "('The meaning of life is often seen as a deeply personal quest, shaped by '\n",
      " 'individual beliefs, values, and experiences. Many philosophies suggest it '\n",
      " 'involves seeking connection, purpose, growth, or contribution to something '\n",
      " 'greater than oneself. Spiritually or religiously inclined perspectives might '\n",
      " 'frame it as aligning with a higher power or universal truth. Ultimately, the '\n",
      " 'search for meaning is dynamic—shaped by curiosity, relationships, and the '\n",
      " 'interplay between suffering and fulfillment throughout life’s journey.')\n"
     ]
    }
   ],
   "source": [
    "completion = client.chat.completions.create(\n",
    "#   extra_headers={\n",
    "#     \"HTTP-Referer\": \"<YOUR_SITE_URL>\", # Optional. Site URL for rankings on openrouter.ai.\n",
    "#     \"X-Title\": \"<YOUR_SITE_NAME>\", # Optional. Site title for rankings on openrouter.ai.\n",
    "#   },\n",
    "  extra_body={\n",
    "    \"provider\": {\n",
    "      \"only\": [\"Cerebras\"]\n",
    "    },\n",
    "    \"chat_template_kwargs\": {\"enable_thinking\": True},  # Enable reasoning steps\n",
    "    \"separate_reasoning\": True  # Return reasoning steps separately\n",
    "  },\n",
    "  model=\"qwen/qwen3-32b\",\n",
    "  messages=[\n",
    "    {\n",
    "      \"role\": \"user\",\n",
    "      \"content\": \"Explain the meaning of life in four sentences.\"\n",
    "    }\n",
    "  ]\n",
    ")\n",
    "\n",
    "# Print the reasoning steps and final answer\n",
    "pprint(\"Reasoning Steps:\")\n",
    "pprint(completion.choices[0].message.reasoning)\n",
    "pprint(\"\\nFinal Answer:\")\n",
    "pprint(completion.choices[0].message.content)\n",
    "\n",
    "## Uncomment the following line to see the full message structure\n",
    "# pprint(completion.choices[0].message.to_dict())"
   ]
  },
  {
   "cell_type": "markdown",
   "id": "6c057cac",
   "metadata": {},
   "source": [
    "## STEP 0 : DATASET [Earnings Calls transcripts from Alphabet (Google) from Q1 2022 to Q1 2025]"
   ]
  },
  {
   "cell_type": "code",
   "execution_count": 4,
   "id": "d9fda673",
   "metadata": {},
   "outputs": [
    {
     "name": "stdout",
     "output_type": "stream",
     "text": [
      "['../data/2022-q1-earnings-call.txt',\n",
      " '../data/2022-q2-earnings-call.txt',\n",
      " '../data/2022-q3-earnings-call.txt',\n",
      " '../data/2022-q4-earnings-call.txt',\n",
      " '../data/2023-q1-earnings-call.txt',\n",
      " '../data/2023-q2-earnings-call.txt',\n",
      " '../data/2023-q3-earnings-call.txt',\n",
      " '../data/2023-q4-earnings-call.txt',\n",
      " '../data/2024-q1-earnings-call.txt',\n",
      " '../data/2024-q2-earnings-call.txt',\n",
      " '../data/2024-q3-earnings-call.txt',\n",
      " '../data/2024-q4-earnings-call.txt',\n",
      " '../data/2025-q1-earnings-call.txt']\n"
     ]
    }
   ],
   "source": [
    "years = list(range(2022, 2025))\n",
    "quarters = [\"q1\", \"q2\", \"q3\", \"q4\"]\n",
    "files = [ f\"../data/{year}-{quarter}-earnings-call.txt\" for year in years for quarter in quarters ]\n",
    "additional_files = [\"../data/2025-q1-earnings-call.txt\"]\n",
    "files.extend(additional_files)\n",
    "# Print the list of files\n",
    "pprint(files)"
   ]
  },
  {
   "cell_type": "markdown",
   "id": "cd3fd252",
   "metadata": {},
   "source": [
    "## STEP 1 :  Ask the LLM for key points the analyst should look for in the earnings call transcript"
   ]
  },
  {
   "cell_type": "code",
   "execution_count": 5,
   "id": "2a453dca",
   "metadata": {},
   "outputs": [],
   "source": [
    "# Ennlist the key points that a business analyst should focus on when reading these earnings calls\n",
    "completion = client.chat.completions.create(\n",
    "#   extra_headers={\n",
    "#     \"HTTP-Referer\": \"<YOUR_SITE_URL>\", # Optional. Site URL for rankings on openrouter.ai.\n",
    "#     \"X-Title\": \"<YOUR_SITE_NAME>\", # Optional. Site title for rankings on openrouter.ai.\n",
    "#   },\n",
    "  extra_body={\n",
    "    \"provider\": {\n",
    "      \"only\": [\"Cerebras\"]\n",
    "    },\n",
    "    \"chat_template_kwargs\": {\"enable_thinking\": True},  # Enable reasoning steps\n",
    "    \"separate_reasoning\": True  # Return reasoning steps separately\n",
    "  },\n",
    "  model=\"qwen/qwen3-32b\",\n",
    "  messages=[\n",
    "    {\n",
    "      \"role\": \"user\",\n",
    "      \"content\": \"\"\"What are the key points a business analyst should focus on when reading earnings calls?\n",
    "      Convert the output to a JSON schema definition\"\"\"\n",
    "    }\n",
    "  ]\n",
    ")\n",
    "# Print the key points for business analysts\n",
    "# pprint(\"Key Points for Business Analysts:\")\n",
    "# pprint(completion.choices[0].message.content)\n",
    "key_points = completion.choices[0].message.content\n",
    "# Save the key points to a file\n",
    "with open(\"../outputs/key_points_business_analysts.json\", \"w\") as f:\n",
    "    f.write(key_points)"
   ]
  },
  {
   "cell_type": "markdown",
   "id": "e77fd431",
   "metadata": {},
   "source": [
    "## STEP 2 : Considering  the key points in step 1, analyze the earnings calls"
   ]
  },
  {
   "cell_type": "code",
   "execution_count": 6,
   "id": "e1f32a06",
   "metadata": {},
   "outputs": [
    {
     "name": "stdout",
     "output_type": "stream",
     "text": [
      "Saving key points to ../outputs/key_points_2022-q1-earnings-call.json\n",
      "Saving key points to ../outputs/key_points_2022-q2-earnings-call.json\n",
      "Saving key points to ../outputs/key_points_2022-q3-earnings-call.json\n",
      "Saving key points to ../outputs/key_points_2022-q4-earnings-call.json\n",
      "Saving key points to ../outputs/key_points_2023-q1-earnings-call.json\n",
      "Saving key points to ../outputs/key_points_2023-q2-earnings-call.json\n",
      "Saving key points to ../outputs/key_points_2023-q3-earnings-call.json\n",
      "Saving key points to ../outputs/key_points_2023-q4-earnings-call.json\n",
      "Saving key points to ../outputs/key_points_2024-q1-earnings-call.json\n",
      "Saving key points to ../outputs/key_points_2024-q2-earnings-call.json\n",
      "Saving key points to ../outputs/key_points_2024-q3-earnings-call.json\n",
      "Saving key points to ../outputs/key_points_2024-q4-earnings-call.json\n",
      "Saving key points to ../outputs/key_points_2025-q1-earnings-call.json\n"
     ]
    }
   ],
   "source": [
    "# Considering the key points, process each earnings call file and extract the key points in a structured JSON format\n",
    "for file in files:\n",
    "    with open(file, \"r\") as f:\n",
    "        earnings_call_content = f.read()\n",
    "    # Create a chat completion to extract key points from the earnings call content\n",
    "    completion = client.chat.completions.create(\n",
    "#       extra_headers={\n",
    "#         \"HTTP-Referer\": \"<YOUR_SITE_URL>\", # Optional. Site URL for rankings on openrouter.ai.\n",
    "#         \"X-Title\": \"<YOUR_SITE_NAME>\", # Optional. Site title for rankings on openrouter.ai.\n",
    "#       },\n",
    "        extra_body={\n",
    "            \"provider\": {\n",
    "                \"only\": [\"Cerebras\"]\n",
    "            },\n",
    "            \"chat_template_kwargs\": {\"enable_thinking\": True},  # Enable reasoning steps\n",
    "            \"separate_reasoning\": True  # Return reasoning steps separately\n",
    "        },\n",
    "        model=\"qwen/qwen3-32b\",\n",
    "        messages=[\n",
    "            {\n",
    "                \"role\": \"user\",\n",
    "                \"content\": f\"\"\"Extract the key points from the earnings call transcript considering the following key points for business analysts:\n",
    "                The output should be in JSON format.\n",
    "                The output should be strictly adhere to the prescribed key points in JSON schema definition.\n",
    "                The extracted key points should be concise and relevant to business analysts.\n",
    "                \\n\\n## KEY POINTS FOR BUSINESS ANALYSTS (JSON SCHEMA DEFINITION)\n",
    "                \\n\\n{key_points}\n",
    "                \\n\\n## EARNINGS CALL CONTENT \n",
    "                \\n\\n{earnings_call_content}\"\"\"\n",
    "            }\n",
    "        ]\n",
    "    )\n",
    "    # Print the extracted key points\n",
    "    # pprint(f\"Key Points from {file}:\")\n",
    "    # pprint(completion.choices[0].message.content)\n",
    "    # Save the key points to a file\n",
    "    output_file = f\"../outputs/key_points_{os.path.basename(file).replace('.txt', '.json')}\"\n",
    "    print(f\"Saving key points to {output_file}\")\n",
    "    output = completion.choices[0].message.content\n",
    "    output = output.replace(\"```json\", \"\").replace(\"```\", \"\").strip()  # Clean up the output\n",
    "    with open(output_file, \"w\") as f:\n",
    "        f.write(output)\n",
    "\n"
   ]
  },
  {
   "cell_type": "markdown",
   "id": "07e4dfb1",
   "metadata": {},
   "source": [
    "## STEP 3 : Combine the keypoints into a story (timeline)"
   ]
  },
  {
   "cell_type": "code",
   "execution_count": 7,
   "id": "5db6736d",
   "metadata": {},
   "outputs": [
    {
     "name": "stdout",
     "output_type": "stream",
     "text": [
      "'Loaded key points from ../outputs/key_points_2022-q1-earnings-call.json'\n",
      "'Loaded key points from ../outputs/key_points_2022-q2-earnings-call.json'\n",
      "'Loaded key points from ../outputs/key_points_2022-q3-earnings-call.json'\n",
      "'Loaded key points from ../outputs/key_points_2022-q4-earnings-call.json'\n",
      "'Loaded key points from ../outputs/key_points_2023-q1-earnings-call.json'\n",
      "'Loaded key points from ../outputs/key_points_2023-q2-earnings-call.json'\n",
      "'Loaded key points from ../outputs/key_points_2023-q3-earnings-call.json'\n",
      "'Loaded key points from ../outputs/key_points_2023-q4-earnings-call.json'\n",
      "'Loaded key points from ../outputs/key_points_2024-q1-earnings-call.json'\n",
      "'Loaded key points from ../outputs/key_points_2024-q2-earnings-call.json'\n",
      "'Loaded key points from ../outputs/key_points_2024-q3-earnings-call.json'\n",
      "'Loaded key points from ../outputs/key_points_2024-q4-earnings-call.json'\n",
      "'Loaded key points from ../outputs/key_points_2025-q1-earnings-call.json'\n"
     ]
    }
   ],
   "source": [
    "# Iterate the key points json files and load them into a single prompt string\n",
    "key_points_prompt = \"\"\n",
    "for file in files:\n",
    "    output_file = f\"../outputs/key_points_{os.path.basename(file).replace('.txt', '.json')}\"\n",
    "    with open(output_file, \"r\") as f:\n",
    "        key_points_content = f.read()\n",
    "    key_points_prompt += f\"\\n\\n## KEY POINTS FROM {os.path.basename(file)}\\n{key_points_content}\"\n",
    "\n",
    "    pprint(f\"Loaded key points from {output_file}\")\n",
    "\n",
    "\n",
    "# pprint(key_points_prompt)"
   ]
  },
  {
   "cell_type": "code",
   "execution_count": 8,
   "id": "09f1d0a7",
   "metadata": {},
   "outputs": [
    {
     "data": {
      "text/markdown": [
       "### Comprehensive Business Narrative: 2022–2025 Earnings Highlights  \n",
       "*(For Internal Management Review by Business Analysts)*  \n",
       "\n",
       "---\n",
       "\n",
       "#### **2022: Laying the Foundation for AI-Driven Growth**  \n",
       "- **Financial Performance**: Revenue grew steadily but faced headwinds from FX volatility (-3% Q1 2022) and Russia-Ukraine war impacts. Quarterly revenue reached $69.1B by Q3 2022, with Cloud revenue hitting $6.3B (36% YoY growth).  \n",
       "- **Strategic Priorities**: Accelerated Cloud and AI investments, including the **Mandiant acquisition** (cybersecurity expansion) and **YouTube Shorts monetization** (30B+ daily views globally). Hybrid work solutions (Google Meet, Workspace) became central.  \n",
       "- **Challenges**: FX headwinds, regulatory risks (EU Digital Markets Act), and competition in short-form video (vs. TikTok).  \n",
       "- **Capital Allocation**: $70B stock buyback authorization in Q1 2022, with $52B repurchased by Q2. Capex focused on U.S. data centers.  \n",
       "- **Tone**: **Cautiously optimistic**, balancing long-term AI/cloud bets with macroeconomic uncertainties.  \n",
       "\n",
       "---\n",
       "\n",
       "#### **2023: AI Integration and Cost Discipline**  \n",
       "- **Breakthroughs**:  \n",
       "  - AI became a **core growth driver** (PaLM, LaMDA models) and **differentiator** (AI Hypercomputer, Gemini models).  \n",
       "  - **Google Cloud** passed $9.2B quarterly revenue (26% YoY growth) with 60% of Fortune 1000 customers.  \n",
       "  - **YouTube Shorts** achieved 2B+ monthly users, with monetization ramps starting to materialize (e.g., Shorts Fund expansion).  \n",
       "- **Financial Shifts**: Operating expenses stabilized (flat Q4 2023 vs. prior year) as cost re-engineering reduced inefficiencies (12K workforce reductions).  \n",
       "- **New Challenges**: Macro-economic slowdowns, Microsoft/AWS cloud competition, and rising AI infrastructure costs.  \n",
       "- **Capital Returns**: $59B buybacks in 2022; a **$0.20/share dividend** launched in 2024.  \n",
       "\n",
       "---\n",
       "\n",
       "#### **2024: AI Infrastructure Scaling and Monetization**  \n",
       "- **Product Leadership**:  \n",
       "  - Released **Gemini 1.5 Pro** and **Trillium TPU** (5X performance boost), cementing AI infrastructure leadership.  \n",
       "  - **Search Generative Experience (SGE)** and **AI Overviews** drove advertiser demand (35% higher conversions via Smart Bidding).  \n",
       "  - **YouTube Premium** and **Google One** subscriptions passed **100M paid users**.  \n",
       "- **Financial Milestones**:  \n",
       "  - Cloud revenue exceeded **$10B/quarter** for the first time (29% YoY growth).  \n",
       "  - Q4 2024 revenue reached **$96.5B**, with **net income of $26.5B** (up from $13.6B in Q4 2022).  \n",
       "  - Capex surged to **$75B in 2025** (focused on AI servers and data centers).  \n",
       "- **Partnerships**: Strategic alliances (e.g., Oralce, Hugging Face) and **Waymo-Uber AV expansion** created new revenue streams.  \n",
       "\n",
       "---\n",
       "\n",
       "#### **2025: AI Monetization and Operational Efficiency**  \n",
       "- **Maturation of AI Strategy**:  \n",
       "  - **Gemini 2.5**, AI Agents, and **AI Mode in Search** drove user engagement (2X longer queries for 18-24 age group).  \n",
       "  - **Wiz acquisition** for multi-cloud security and **Hyundai partnership** for autonomous vehicles signaled diversification.  \n",
       "- **Financial Resilience**:  \n",
       "  - Q1 2025 revenue of **$90.2B** (12% YoY) with **33.9% operating margin**, and net income of $34.5B (46% YoY growth).  \n",
       "  - **270M+ paid subscriptions** (YouTube/Google One) achieved via tiered monetization.  \n",
       "- **Future Playbooks**:  \n",
       "  - **2025–2026 roadmap** includes Project Astra (multimodal AI agents) and **$75B in 2025 AI infrastructure Capex**.  \n",
       "  - **Operational efficiencies** reduced AI Overviews costs by **90%** and Waymo ride costs via automation.  \n",
       "\n",
       "---\n",
       "\n",
       "### **Key Trends and Strategic Insights**  \n",
       "1. **AI as the Growth Engine**:  \n",
       "   - AI infrastructure (TPUs, Vertex AI) and application tools (SGE, Gemini) became the **core of differentiation**, driving revenue in Cloud, Search, and YouTube.  \n",
       "   - **Cloud growth accelerated** from 36% YoY in 2022 to 35% CAGR by 2024, supported by enterprise AI adoption.  \n",
       "\n",
       "2. **Capital Efficiency**:  \n",
       "   - Operating expenses stabilized (flat Q4 2023 vs. Q4 2022) despite R&D increases, demonstrating disciplined cost re-engineering.  \n",
       "   - **Stock buybacks** ($70B+ authorizations) and **dividend growth** ($2.4B in 2024) boosted investor confidence.  \n",
       "\n",
       "3. **Video Content Supremacy**:  \n",
       "   - YouTube retained **50% CTV watch time in the U.S.** and **$50B+ ad/subscription revenue** in 2024, with Shorts monetization fueling the next growth wave.  \n",
       "\n",
       "4. **Risks to Monitor**:  \n",
       "   - FX volatility (-$136M headwind in Q2 2024), DOJ antitrust litigation, and **AI talent wars**.  \n",
       "   - Supply-demand imbalances in Cloud capacity could affect 2025 revenue predictability.  \n",
       "\n",
       "---\n",
       "\n",
       "### **Management’s Long-Term Playbook**  \n",
       "- **AI-First Product Roadmap**: Continue expanding **Gemini**, AI infrastructure (Trillium/Blackwell GPUs), and agent-based solutions (Astra).  \n",
       "- **Cloud Sustainability**: Balance high Capex with **multi-cloud security (Wiz)** and **enterprise partnerships** (e.g., Citi, Oracle).  \n",
       "- **Monetization Diversification**: Expand **First Position ad placements**, **YouTube Premium Lite**, and **Google One tiered subscriptions**.  \n",
       "\n",
       "This narrative underscores the company’s shift from **AI exploration (2022)** to **infrastructure dominance (2024–2025)**, with monetization now translating to financial strength. The balance sheet and innovation pipeline position the business for **sustained growth in AI-driven cloud**, multimedia, and enterprise solutions."
      ],
      "text/plain": [
       "<IPython.core.display.Markdown object>"
      ]
     },
     "metadata": {},
     "output_type": "display_data"
    }
   ],
   "source": [
    "# Considering the JSON schema definition and the key points extracted from the earnings calls, \n",
    "# create story for the business analyst to present to the management team\n",
    "# spanning over all the quarters\n",
    "\n",
    "completion = client.chat.completions.create(\n",
    "#   extra_headers={\n",
    "#     \"HTTP-Referer\": \"<YOUR_SITE_URL>\", # Optional. Site URL for rankings on openrouter.ai.\n",
    "#     \"X-Title\": \"<YOUR_SITE_NAME>\", # Optional. Site title for rankings on openrouter.ai.\n",
    "#   },\n",
    "  extra_body={\n",
    "    \"provider\": {\n",
    "      \"only\": [\"Cerebras\"]\n",
    "    },\n",
    "    \"chat_template_kwargs\": {\"enable_thinking\": True},  # Enable reasoning steps\n",
    "    \"separate_reasoning\": True  # Return reasoning steps separately \n",
    "  },\n",
    "  model=\"qwen/qwen3-32b\",\n",
    "  messages=[\n",
    "    {\n",
    "      \"role\": \"user\",\n",
    "      \"content\": f\"\"\"Based on the following key points extracted from the earnings calls, create a comprehensive story for the business analyst to present to the management team.\n",
    "      The story should span over all the quarters and should be concise and relevant to business analysts.\n",
    "      \\n\\n## KEY POINTS (JSON SCHEMA DEFINITION)\n",
    "      \\n\\n{key_points}\n",
    "      \\n\\n## KEY POINTS FROM EARNINGS CALLS\n",
    "      \\n\\n{key_points_prompt}\n",
    "      \\n\\n## OUTPUT FORMAT\n",
    "      \\n\\nThe output shouls be in markdown format\"\"\"\n",
    "    }\n",
    "  ]\n",
    ")\n",
    "    \n",
    "# Print the story for the business analyst\n",
    "story = completion.choices[0].message.content\n",
    "display(Markdown(story))\n",
    "\n",
    "# Save the story to a file\n",
    "with open(\"../outputs/story_business_analyst.md\", \"w\") as f:\n",
    "    f.write(story)"
   ]
  },
  {
   "cell_type": "code",
   "execution_count": null,
   "id": "450b8d2d",
   "metadata": {},
   "outputs": [],
   "source": []
  },
  {
   "cell_type": "code",
   "execution_count": null,
   "id": "f404d2ea",
   "metadata": {},
   "outputs": [],
   "source": []
  }
 ],
 "metadata": {
  "kernelspec": {
   "display_name": ".venv",
   "language": "python",
   "name": "python3"
  },
  "language_info": {
   "codemirror_mode": {
    "name": "ipython",
    "version": 3
   },
   "file_extension": ".py",
   "mimetype": "text/x-python",
   "name": "python",
   "nbconvert_exporter": "python",
   "pygments_lexer": "ipython3",
   "version": "3.13.0"
  }
 },
 "nbformat": 4,
 "nbformat_minor": 5
}
