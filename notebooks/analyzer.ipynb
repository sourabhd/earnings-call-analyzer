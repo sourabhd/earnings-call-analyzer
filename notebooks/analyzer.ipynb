{
 "cells": [
  {
   "cell_type": "code",
   "execution_count": 7,
   "id": "74c6c154",
   "metadata": {},
   "outputs": [
    {
     "name": "stdout",
     "output_type": "stream",
     "text": [
      "The meaning of life is a deeply personal and multifaceted concept, shaped by individual beliefs, cultural contexts, and philosophical perspectives. Many find purpose in relationships, creativity, service, or the pursuit of knowledge, while others see it as an existential journey of self-discovery and growth. Scientifically, life may be viewed as a process of adaptation and continuity, driven by natural forces seeking to preserve and propagate existence. Ultimately, the search for meaning itself—through connection, meaning-making, or transcendent ideals—often becomes the essence of what it means to live.\n"
     ]
    }
   ],
   "source": [
    "from openai import OpenAI\n",
    "from dotenv import load_dotenv\n",
    "import os\n",
    "\n",
    "# Load environment variables from .env file\n",
    "load_dotenv()\n",
    "\n",
    "# Ensure OPENROUTER_API_KEY is set in the environment\n",
    "OPENROUTER_API_KEY = os.getenv(\"OPENROUTER_API_KEY\")\n",
    "if not OPENROUTER_API_KEY:\n",
    "    raise ValueError(\"OPENROUTER_API_KEY environment variable is not set.\")\n",
    "\n",
    "\n",
    "# Initialize OpenAI client with OpenRouter API key\n",
    "client = OpenAI(\n",
    "  base_url=\"https://openrouter.ai/api/v1\",\n",
    "  api_key=OPENROUTER_API_KEY,\n",
    ")\n",
    "\n",
    "# Create a chat completion using the Qwen-3 32B model from Cerebras\n",
    "completion = client.chat.completions.create(\n",
    "#   extra_headers={\n",
    "#     \"HTTP-Referer\": \"<YOUR_SITE_URL>\", # Optional. Site URL for rankings on openrouter.ai.\n",
    "#     \"X-Title\": \"<YOUR_SITE_NAME>\", # Optional. Site title for rankings on openrouter.ai.\n",
    "#   },\n",
    "  extra_body={\n",
    "    \"provider\": {\n",
    "      \"only\": [\"Cerebras\"]\n",
    "    }\n",
    "  },\n",
    "  model=\"qwen/qwen3-32b\",\n",
    "  messages=[\n",
    "    {\n",
    "      \"role\": \"user\",\n",
    "      \"content\": \"Explain the meaning of life in four sentences.\"\n",
    "    }\n",
    "  ]\n",
    ")\n",
    "print(completion.choices[0].message.content)"
   ]
  }
 ],
 "metadata": {
  "kernelspec": {
   "display_name": ".venv",
   "language": "python",
   "name": "python3"
  },
  "language_info": {
   "codemirror_mode": {
    "name": "ipython",
    "version": 3
   },
   "file_extension": ".py",
   "mimetype": "text/x-python",
   "name": "python",
   "nbconvert_exporter": "python",
   "pygments_lexer": "ipython3",
   "version": "3.13.0"
  }
 },
 "nbformat": 4,
 "nbformat_minor": 5
}
